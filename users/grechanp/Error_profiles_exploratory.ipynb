{
 "cells": [
  {
   "cell_type": "code",
   "execution_count": 4,
   "metadata": {
    "collapsed": true,
    "scrolled": true
   },
   "outputs": [],
   "source": [
    "import numpy as np\n",
    "import pickle\n",
    "import pandas as pd\n",
    "import matplotlib.pyplot as plt"
   ]
  },
  {
   "cell_type": "code",
   "execution_count": 5,
   "metadata": {
    "collapsed": true,
    "scrolled": true
   },
   "outputs": [],
   "source": [
    "summed_sen_df = pickle.load( open( \"sen_dataframes/sen_data_summed.p\", \"rb\" ) )  \n",
    "not_summed_sen_df = pickle.load( open( \"sen_dataframes/sen_data.p\", \"rb\" ) )  "
   ]
  },
  {
   "cell_type": "code",
   "execution_count": 6,
   "metadata": {
    "scrolled": true
   },
   "outputs": [
    {
     "ename": "NameError",
     "evalue": "name 'error_names' is not defined",
     "output_type": "error",
     "traceback": [
      "\u001b[1;31m---------------------------------------------------------------------------\u001b[0m",
      "\u001b[1;31mNameError\u001b[0m                                 Traceback (most recent call last)",
      "\u001b[1;32m<ipython-input-6-4624e19c8a96>\u001b[0m in \u001b[0;36m<module>\u001b[1;34m()\u001b[0m\n\u001b[0;32m      1\u001b[0m \u001b[1;31m#drops the 50 cases with the greatest error\u001b[0m\u001b[1;33m\u001b[0m\u001b[1;33m\u001b[0m\u001b[0m\n\u001b[1;32m----> 2\u001b[1;33m \u001b[0msummed_sen_df\u001b[0m\u001b[1;33m.\u001b[0m\u001b[0mdrop\u001b[0m\u001b[1;33m(\u001b[0m\u001b[0merror_names\u001b[0m\u001b[1;33m,\u001b[0m \u001b[0minplace\u001b[0m \u001b[1;33m=\u001b[0m \u001b[1;32mTrue\u001b[0m\u001b[1;33m)\u001b[0m\u001b[1;33m\u001b[0m\u001b[0m\n\u001b[0m",
      "\u001b[1;31mNameError\u001b[0m: name 'error_names' is not defined"
     ]
    }
   ],
   "source": [
    "#drops the 50 cases with the greatest error\n",
    "summed_sen_df.drop(error_names, inplace = True)"
   ]
  },
  {
   "cell_type": "code",
   "execution_count": 7,
   "metadata": {
    "collapsed": true,
    "scrolled": true
   },
   "outputs": [],
   "source": [
    "from sklearn.model_selection import train_test_split \n",
    "def generate_training_data(dataframe, predicting):\n",
    "    '''\n",
    "    If you want to retrain algorithm with diffrent hyperparameters of train a new model altogether,\n",
    "    this function will take the dataframe and return vectors which are used to train and evaluate the models.\n",
    "\n",
    "    X_all and y_all should only be used to train a regressor that \n",
    "    will make a prediction on a case outside of the Whisper catalogue.\n",
    "\n",
    "    Parameters\n",
    "    ----------\n",
    "        dataframe : Pandas DataFrame\n",
    "        Should contain all of the cases that will be trained and tested upon.\n",
    "\n",
    "        predicting : string\n",
    "        Either 'bias' or 'keig_meas' depending on what you're predicting\n",
    "    Returns\n",
    "    -----------\n",
    "    X_train, X_test, X_all, matrix of shape = [n_samples, n_features]\n",
    "    y_train, y_test, y_all, array, shape = [n_samples, 1]\n",
    "    '''\n",
    "    train_set, test_set = train_test_split(dataframe, test_size=0.2, random_state=42)\n",
    "\n",
    "    X_all = np.vstack(dataframe['s'].values)\n",
    "#    X_all = np.insert(X_all, 0, dataframe['keig_siml'], axis =1)\n",
    "\n",
    "    y_all = np.asarray(dataframe[predicting].values).reshape(-1,1)\n",
    "\n",
    "    X_train = np.vstack(train_set['s'].values)\n",
    "    X_test = np.vstack(test_set['s'].values)\n",
    "\n",
    "#    X_train = np.insert(X_train, 0, train_set['keig_siml'], axis =1)\n",
    "#    X_test = np.insert(X_test, 0, test_set['keig_siml'], axis =1)\n",
    "\n",
    "    y_train = np.asarray(train_set[predicting].values).reshape(-1,1)\n",
    "    y_test = np.asarray(test_set[predicting].values).reshape(-1,1)\n",
    "    \n",
    "    return X_train, X_test, y_train, y_test, X_all, y_all\n",
    "\n",
    "X_train, X_test, y_train, y_test, X_all, y_all = generate_training_data(summed_sen_df, 'bias')"
   ]
  },
  {
   "cell_type": "code",
   "execution_count": 8,
   "metadata": {
    "scrolled": true
   },
   "outputs": [
    {
     "name": "stderr",
     "output_type": "stream",
     "text": [
      "C:\\Users\\grech\\Anaconda3\\lib\\site-packages\\sklearn\\utils\\validation.py:429: DataConversionWarning: Data with input dtype object was converted to float64 by StandardScaler.\n",
      "  warnings.warn(msg, _DataConversionWarning)\n"
     ]
    }
   ],
   "source": [
    "from sklearn import preprocessing\n",
    "def norm_data_for_nn():\n",
    "    '''The data fed to a neural network must be normalized unlike the decision trees.\n",
    "       Centers the data with a mean of 0 and a standard deviation of 1.\n",
    "    '''\n",
    "    scaler = preprocessing.StandardScaler()\n",
    "    X_train_nn = scaler.fit_transform(X_train)\n",
    "    X_test_nn = scaler.fit_transform(X_test)\n",
    "\n",
    "    y_train_nn = scaler.fit_transform(y_train)\n",
    "    y_test_nn = scaler.fit_transform(y_test)\n",
    "\n",
    "    X_all_nn = scaler.fit_transform(X_all)\n",
    "    y_all_nn = scaler.fit_transform(y_all)\n",
    "\n",
    "    return X_train_nn, X_test_nn, y_train_nn, y_test_nn, X_all_nn, y_all_nn\n",
    "\n",
    "X_train_nn, X_test_nn, y_train_nn, y_test_nn, X_all_nn, y_all_nn = norm_data_for_nn()"
   ]
  },
  {
   "cell_type": "code",
   "execution_count": 9,
   "metadata": {
    "collapsed": true,
    "scrolled": true
   },
   "outputs": [],
   "source": [
    "from sklearn.feature_selection import RFECV\n",
    "selector = pickle.load( open( \"sen_dataframes/feature_selector.p\", \"rb\" ) )\n",
    "sen_data = np.vstack(summed_sen_df['s'].values)\n",
    "imp_sen = selector.transform(sen_data)\n",
    "X_all_important = np.insert(imp_sen, 0, summed_sen_df['keig_siml'], axis =1)"
   ]
  },
  {
   "cell_type": "code",
   "execution_count": 10,
   "metadata": {
    "collapsed": true,
    "scrolled": true
   },
   "outputs": [],
   "source": [
    "from sklearn.model_selection import cross_val_score\n",
    "def cross_val(classifier, X_train, y_train):\n",
    "    scores = cross_val_score(classifier, X_train, y_train.ravel(),\n",
    "                         scoring=\"neg_mean_squared_error\", cv=10)\n",
    "    print(\"MSE Values:\", scores)\n",
    "    print(\"Mean MSE:\", scores.mean())\n",
    "    print(\"Standard deviation of MSE:\", scores.std())\n",
    "    print('Mean RMSE:', np.sqrt(abs(scores.mean())))"
   ]
  },
  {
   "cell_type": "code",
   "execution_count": 11,
   "metadata": {
    "collapsed": true,
    "scrolled": true
   },
   "outputs": [],
   "source": [
    "from sklearn.metrics import accuracy_score\n",
    "from sklearn.metrics import mean_squared_error\n",
    "from sklearn.metrics import mean_absolute_error\n",
    "\n",
    "def evaluate_model(model, X_test, y_test):\n",
    "    y_pred = model.predict(X_test)\n",
    "    mse = mean_squared_error(y_test, y_pred)\n",
    "    mae = mean_absolute_error(y_test, y_pred)\n",
    "    rmse = np.sqrt(mse)    \n",
    "    print('mse {}, rmse {}'.format(mse, rmse))\n",
    "    print('Coefficient of Determination R^2:', model.score(X_test, y_test))\n",
    "    print('Mean Absolute Error:', mae)"
   ]
  },
  {
   "cell_type": "code",
   "execution_count": 12,
   "metadata": {
    "collapsed": true,
    "scrolled": true
   },
   "outputs": [],
   "source": [
    "from sklearn.model_selection import cross_val_predict\n",
    "\n",
    "def generate_predictions(regressor):\n",
    "    y_predicted = cross_val_predict(regressor, imp_sen, y_all.ravel(), cv=10)\n",
    "    y_predicted = y_predicted.reshape(-1,1)\n",
    "    return y_predicted"
   ]
  },
  {
   "cell_type": "code",
   "execution_count": 13,
   "metadata": {
    "collapsed": true,
    "scrolled": true
   },
   "outputs": [],
   "source": [
    "def generate_statistics(error):\n",
    "    absolute_errors = abs(error)\n",
    "    squared_errors = error**2\n",
    "    summed_errors = squared_errors.sum()\n",
    "    mse = summed_errors/float(len(error))\n",
    "    rmse = np.sqrt(mse)\n",
    "    mae = absolute_errors.sum()/len(error)\n",
    "    print(mse, rmse, mae)\n",
    "    return mse, rmse, mae"
   ]
  },
  {
   "cell_type": "code",
   "execution_count": 14,
   "metadata": {
    "scrolled": true
   },
   "outputs": [
    {
     "data": {
      "text/plain": [
       "RandomForestRegressor(bootstrap=True, criterion='mse', max_depth=None,\n",
       "           max_features=200, max_leaf_nodes=None, min_impurity_split=1e-07,\n",
       "           min_samples_leaf=1, min_samples_split=2,\n",
       "           min_weight_fraction_leaf=0.0, n_estimators=1000, n_jobs=1,\n",
       "           oob_score=False, random_state=42, verbose=0, warm_start=False)"
      ]
     },
     "execution_count": 14,
     "metadata": {},
     "output_type": "execute_result"
    }
   ],
   "source": [
    "from sklearn.ensemble import RandomForestRegressor\n",
    "\n",
    "forest_reg = RandomForestRegressor(max_features=200, n_estimators=1000, random_state = 42) \n",
    "#forest_reg = RandomForestRegressor(max_features='auto', n_estimators=1000, random_state = 42) \n",
    "forest_reg.fit(X_train, y_train.ravel())\n",
    "#forest_reg.fit(X_all, y_all.ravel())"
   ]
  },
  {
   "cell_type": "code",
   "execution_count": 15,
   "metadata": {
    "scrolled": true
   },
   "outputs": [
    {
     "name": "stdout",
     "output_type": "stream",
     "text": [
      "mse 9.633287272675328e-06, rmse 0.0031037537390513647\n",
      "Coefficient of Determination R^2: 0.7924446634\n",
      "Mean Absolute Error: 0.00205896568807\n"
     ]
    },
    {
     "data": {
      "text/plain": [
       "0.0071851744097349169"
      ]
     },
     "execution_count": 15,
     "metadata": {},
     "output_type": "execute_result"
    }
   ],
   "source": [
    "evaluate_model(forest_reg, X_test, y_test)\n",
    "forest_reg.feature_importances_[0]"
   ]
  },
  {
   "cell_type": "code",
   "execution_count": 16,
   "metadata": {
    "scrolled": true
   },
   "outputs": [
    {
     "data": {
      "text/plain": [
       "AdaBoostRegressor(base_estimator=DecisionTreeRegressor(criterion='mse', max_depth=35, max_features=300,\n",
       "           max_leaf_nodes=80, min_impurity_split=1e-07, min_samples_leaf=1,\n",
       "           min_samples_split=2, min_weight_fraction_leaf=0.0,\n",
       "           presort=False, random_state=None, splitter='best'),\n",
       "         learning_rate=1.3, loss='linear', n_estimators=1000,\n",
       "         random_state=None)"
      ]
     },
     "execution_count": 16,
     "metadata": {},
     "output_type": "execute_result"
    }
   ],
   "source": [
    "from sklearn.ensemble import AdaBoostRegressor\n",
    "from sklearn.tree import DecisionTreeRegressor\n",
    "\n",
    "ADA = AdaBoostRegressor(DecisionTreeRegressor(max_depth = 35, max_features=300, splitter ='best', max_leaf_nodes=80),\n",
    " n_estimators=1000, learning_rate=1.3)\n",
    "ADA.fit(X_train, y_train.ravel())\n",
    "#ADA.fit(X_all, y_all.ravel())"
   ]
  },
  {
   "cell_type": "code",
   "execution_count": 17,
   "metadata": {
    "scrolled": true
   },
   "outputs": [
    {
     "name": "stdout",
     "output_type": "stream",
     "text": [
      "mse 8.040651161783386e-06, rmse 0.0028356041969540436\n",
      "Coefficient of Determination R^2: 0.826759027201\n",
      "Mean Absolute Error: 0.0019946498607\n"
     ]
    },
    {
     "data": {
      "text/plain": [
       "0.0050201609882943492"
      ]
     },
     "execution_count": 17,
     "metadata": {},
     "output_type": "execute_result"
    }
   ],
   "source": [
    "evaluate_model(ADA, X_test, y_test)\n",
    "ADA.feature_importances_[0]"
   ]
  },
  {
   "cell_type": "code",
   "execution_count": 18,
   "metadata": {
    "scrolled": true
   },
   "outputs": [
    {
     "data": {
      "text/plain": [
       "ExtraTreesRegressor(bootstrap=True, criterion='mse', max_depth=None,\n",
       "          max_features=100, max_leaf_nodes=None, min_impurity_split=1e-07,\n",
       "          min_samples_leaf=1, min_samples_split=2,\n",
       "          min_weight_fraction_leaf=0.0, n_estimators=1000, n_jobs=1,\n",
       "          oob_score=False, random_state=None, verbose=0, warm_start=False)"
      ]
     },
     "execution_count": 18,
     "metadata": {},
     "output_type": "execute_result"
    }
   ],
   "source": [
    "from sklearn.ensemble import ExtraTreesRegressor\n",
    "\n",
    "ETR = ExtraTreesRegressor(n_estimators = 1000, max_features=100, bootstrap = True)\n",
    "ETR.fit(X_train, y_train.ravel())\n",
    "#ETR.fit(X_all, y_all.ravel())"
   ]
  },
  {
   "cell_type": "code",
   "execution_count": 19,
   "metadata": {
    "scrolled": true
   },
   "outputs": [
    {
     "name": "stdout",
     "output_type": "stream",
     "text": [
      "mse 9.429521134911167e-06, rmse 0.003070752535602823\n",
      "Coefficient of Determination R^2: 0.796834935185\n",
      "Mean Absolute Error: 0.00199946717977\n"
     ]
    },
    {
     "data": {
      "text/plain": [
       "0.0073029949707503891"
      ]
     },
     "execution_count": 19,
     "metadata": {},
     "output_type": "execute_result"
    }
   ],
   "source": [
    "evaluate_model(ETR, X_test, y_test)\n",
    "ETR.feature_importances_[0]"
   ]
  },
  {
   "cell_type": "code",
   "execution_count": 41,
   "metadata": {},
   "outputs": [
    {
     "data": {
      "text/plain": [
       "AdaBoostRegressor(base_estimator=RandomForestRegressor(bootstrap=True, criterion='mse', max_depth=None,\n",
       "           max_features='auto', max_leaf_nodes=None,\n",
       "           min_impurity_split=1e-07, min_samples_leaf=1,\n",
       "           min_samples_split=2, min_weight_fraction_leaf=0.0,\n",
       "           n_estimators=10, n_jobs=1, oob_score=False, random_state=None,\n",
       "           verbose=0, warm_start=False),\n",
       "         learning_rate=1.3, loss='linear', n_estimators=500,\n",
       "         random_state=None)"
      ]
     },
     "execution_count": 41,
     "metadata": {},
     "output_type": "execute_result"
    }
   ],
   "source": [
    "ADA_for = AdaBoostRegressor(RandomForestRegressor(), n_estimators=500, learning_rate=1.3)\n",
    "ADA_for.fit(X_train, y_train.ravel())"
   ]
  },
  {
   "cell_type": "code",
   "execution_count": 42,
   "metadata": {},
   "outputs": [
    {
     "name": "stdout",
     "output_type": "stream",
     "text": [
      "mse 9.936982733813362e-06, rmse 0.0031522980084080507\n",
      "Coefficient of Determination R^2: 0.785901350419\n",
      "Mean Absolute Error: 0.00226368987055\n"
     ]
    }
   ],
   "source": [
    "evaluate_model(ADA_for, X_test, y_test)"
   ]
  },
  {
   "cell_type": "code",
   "execution_count": 22,
   "metadata": {
    "collapsed": true
   },
   "outputs": [],
   "source": [
    "#y_ADAfor = generate_predictions(ADA_for)"
   ]
  },
  {
   "cell_type": "code",
   "execution_count": 23,
   "metadata": {
    "scrolled": true
   },
   "outputs": [],
   "source": [
    "y_forest = generate_predictions(forest_reg) "
   ]
  },
  {
   "cell_type": "code",
   "execution_count": 24,
   "metadata": {
    "collapsed": true,
    "scrolled": true
   },
   "outputs": [],
   "source": [
    "y_ETR = generate_predictions(ETR) "
   ]
  },
  {
   "cell_type": "code",
   "execution_count": 25,
   "metadata": {
    "collapsed": true,
    "scrolled": true
   },
   "outputs": [],
   "source": [
    "y_ADA = generate_predictions(ADA) "
   ]
  },
  {
   "cell_type": "code",
   "execution_count": 26,
   "metadata": {
    "collapsed": true,
    "scrolled": true
   },
   "outputs": [],
   "source": [
    "forest_err = y_forest - y_all\n",
    "ETR_err =y_ETR - y_all\n",
    "ADA_err = y_ADA - y_all\n",
    "errors = [forest_err, ETR_err, ADA_err]"
   ]
  },
  {
   "cell_type": "code",
   "execution_count": 27,
   "metadata": {},
   "outputs": [
    {
     "name": "stdout",
     "output_type": "stream",
     "text": [
      "2.8521021957230613e-05 0.00534050764977 0.0037316261879649718\n",
      "3.228711151868917e-05 0.00568217489336 0.003918887680864362\n",
      "2.9837640362037704e-05 0.00546238412802 0.003838559972691298\n"
     ]
    }
   ],
   "source": [
    "for i in errors:\n",
    "    generate_statistics(i)"
   ]
  },
  {
   "cell_type": "code",
   "execution_count": 28,
   "metadata": {
    "collapsed": true,
    "scrolled": true
   },
   "outputs": [],
   "source": [
    "def generate_sorted_error(regressor_error):\n",
    "    rel_errors = tuple(zip(summed_sen_df.index, regressor_error))\n",
    "    rel_errors_sorted = sorted(rel_errors, reverse = True, key = lambda v:v[1])  \n",
    "    return rel_errors_sorted"
   ]
  },
  {
   "cell_type": "code",
   "execution_count": 29,
   "metadata": {
    "collapsed": true,
    "scrolled": true
   },
   "outputs": [],
   "source": [
    "for_sorted = generate_sorted_error(forest_err)\n",
    "ETR_sorted = generate_sorted_error(ETR_err)\n",
    "ADA_sorted = generate_sorted_error(ADA_err)"
   ]
  },
  {
   "cell_type": "code",
   "execution_count": 30,
   "metadata": {
    "collapsed": true,
    "scrolled": true
   },
   "outputs": [],
   "source": [
    "def gen_sorted_name_error(sorted_err_tuple):\n",
    "    sorted_err_names = []\n",
    "    sorted_errors = []\n",
    "    for i in range(len(sorted_err_tuple)):\n",
    "        sorted_err_names.append(sorted_err_tuple[i][0])\n",
    "        sorted_errors.append(sorted_err_tuple[i][1])\n",
    "    return sorted_err_names, sorted_errors"
   ]
  },
  {
   "cell_type": "code",
   "execution_count": 31,
   "metadata": {
    "collapsed": true,
    "scrolled": true
   },
   "outputs": [],
   "source": [
    "forest_names_sorted, forest_err_sorted = gen_sorted_name_error(for_sorted)\n",
    "ETR_names_sorted, ETR_err_sorted = gen_sorted_name_error(ETR_sorted)\n",
    "ADA_names_sorted, ADA_err_sorted = gen_sorted_name_error(ADA_sorted)"
   ]
  },
  {
   "cell_type": "code",
   "execution_count": 32,
   "metadata": {
    "collapsed": true,
    "scrolled": true
   },
   "outputs": [],
   "source": [
    "from collections import Counter\n",
    "\n",
    "short_names = []\n",
    "for i in summed_sen_df.index:\n",
    "    short_names.append(i[:7])\n",
    "short_data = Counter(short_names).most_common()"
   ]
  },
  {
   "cell_type": "code",
   "execution_count": 33,
   "metadata": {
    "collapsed": true,
    "scrolled": true
   },
   "outputs": [],
   "source": [
    "labels = ['heu-met',\n",
    " 'leu-comp',\n",
    " 'pu-sol',\n",
    " 'u233-sol',\n",
    " 'heu-sol',\n",
    " 'pu-met',\n",
    " 'pu-comp',\n",
    " 'mix-met',\n",
    " 'leu-sol',\n",
    " 'heu-comp',\n",
    " 'mix-sol',\n",
    " 'mix-comp',\n",
    " 'ieu-met',\n",
    " 'u233-met',\n",
    " 'u233-comp',\n",
    " 'ieu-comp']"
   ]
  },
  {
   "cell_type": "code",
   "execution_count": 34,
   "metadata": {
    "collapsed": true,
    "scrolled": true
   },
   "outputs": [],
   "source": [
    "def generate_type_errors(reg_err):\n",
    "    rel_errors = tuple(zip(summed_sen_df.index, reg_err))\n",
    "    case_errors = []\n",
    "    for i, type_case in enumerate(short_data):\n",
    "        case_type = type_case[0]\n",
    "        errors = []\n",
    "        for i, case_error in enumerate(rel_errors):\n",
    "            short_name = case_error[0][:7]\n",
    "            error = float(case_error[1])\n",
    "\n",
    "            if short_name == case_type:\n",
    "                errors.append(error)\n",
    "        case_errors.append(errors)\n",
    "        \n",
    "        case_errors_array = np.array([np.array(x) for x in case_errors])\n",
    "    return case_errors_array"
   ]
  },
  {
   "cell_type": "code",
   "execution_count": 35,
   "metadata": {
    "collapsed": true,
    "scrolled": true
   },
   "outputs": [],
   "source": [
    "def gen_type_MSE_MAE_data(reg_err):\n",
    "    type_mse = []\n",
    "    type_mae = []\n",
    "    for i in generate_type_errors(reg_err):\n",
    "        mse, rmse, mae = generate_statistics(i)\n",
    "        type_mse.append(mse)\n",
    "        type_mae.append(mae)    \n",
    "    \n",
    "    return type_mse, type_mae"
   ]
  },
  {
   "cell_type": "code",
   "execution_count": 36,
   "metadata": {
    "scrolled": true
   },
   "outputs": [
    {
     "name": "stdout",
     "output_type": "stream",
     "text": [
      "1.79285105252e-05 0.00423420718969 0.0028643618124\n",
      "7.57618762818e-06 0.00275248753461 0.00174816909101\n",
      "2.48373437229e-05 0.00498370782881 0.00397511670264\n",
      "3.44002972236e-05 0.00586517665749 0.00440688175706\n",
      "2.32922439893e-05 0.00482620389015 0.00383465775785\n",
      "4.47250533891e-05 0.00668767922295 0.00572749837332\n",
      "0.000164496122414 0.0128256041735 0.010202774938\n",
      "1.047207942e-05 0.00323605924236 0.00271089095216\n",
      "6.43977495578e-06 0.00253767116778 0.00189759880587\n",
      "7.22217514546e-05 0.0084983381584 0.00801147592646\n",
      "0.000105888150611 0.0102901968208 0.007534696753\n",
      "1.89515857497e-05 0.00435334190591 0.00358078069964\n",
      "1.75214424475e-05 0.00418586221077 0.00310840713149\n",
      "7.72632458248e-06 0.0027796266984 0.00262017597452\n",
      "1.5597012089e-05 0.00394930526663 0.00368823692031\n",
      "2.188334355e-07 0.000467796361144 0.000467796361144\n",
      "1.84912670051e-05 0.00430014732365 0.00294079919415\n",
      "8.36828950465e-06 0.00289279959635 0.00184581212525\n",
      "2.61600218101e-05 0.00511468687313 0.00402390501508\n",
      "3.46903555748e-05 0.00588985191451 0.00452351348843\n",
      "2.68081216424e-05 0.00517765599885 0.00424211083522\n",
      "3.34239525417e-05 0.00578134521904 0.0048197484394\n",
      "0.00019908291398 0.0141096744817 0.0113641555693\n",
      "9.65083205988e-06 0.00310657883529 0.00262243164924\n",
      "7.27981027738e-06 0.00269811235448 0.00182487254539\n",
      "0.00018926186971 0.0137572478974 0.0133264007064\n",
      "9.08550923151e-05 0.00953179376168 0.00664862953574\n",
      "2.93592711982e-05 0.00541841962183 0.00515581046278\n",
      "1.63689164235e-05 0.004045851755 0.00300634494478\n",
      "4.14478757226e-06 0.00203587513671 0.00192779751402\n",
      "8.87363842549e-06 0.0029788652916 0.00274788252965\n",
      "4.77233218795e-08 0.000218456681929 0.000218456681929\n",
      "1.68589055013e-05 0.00410595975398 0.00267992128488\n",
      "8.88759677517e-06 0.00298120726807 0.0020265794578\n",
      "2.49560963124e-05 0.00499560770201 0.00396954060437\n",
      "3.6223796254e-05 0.00601862079334 0.00468940643053\n",
      "2.48472946217e-05 0.00498470607174 0.00394755480656\n",
      "5.26529959928e-05 0.00725623841896 0.00629214312348\n",
      "0.000135440255853 0.011637880213 0.00933121510283\n",
      "1.6901631611e-05 0.00411115939985 0.00352375448038\n",
      "5.90004846579e-06 0.0024290015368 0.0017808677745\n",
      "0.000129333340807 0.0113724817347 0.0109793212844\n",
      "0.000110086445899 0.0104922088189 0.00712680951961\n",
      "1.3146001269e-05 0.00362574147852 0.00276597769247\n",
      "1.77412029494e-05 0.00421203073937 0.00318990676536\n",
      "7.12438809377e-06 0.00266915494001 0.00202569006584\n",
      "6.27285273311e-06 0.00250456637626 0.00215458747247\n",
      "1.4884e-06 0.00122 0.00122\n"
     ]
    }
   ],
   "source": [
    "for_MSE, for_MAE = gen_type_MSE_MAE_data(forest_err)\n",
    "ETR_MSE, ETR_MAE = gen_type_MSE_MAE_data(ETR_err)\n",
    "ADA_MSE, ADA_MAE = gen_type_MSE_MAE_data(ADA_err)"
   ]
  },
  {
   "cell_type": "code",
   "execution_count": 37,
   "metadata": {},
   "outputs": [
    {
     "data": {
      "image/png": "[encoded data removed]",
      "text/plain": [
       "<matplotlib.figure.Figure at 0x1d8eaeaac18>"
      ]
     },
     "metadata": {},
     "output_type": "display_data"
    }
   ],
   "source": [
    "from matplotlib.pyplot import mlab\n",
    "def plot_MSE_hist(error, clf, name): #\n",
    "    fig, (ax2) = plt.subplots(1, dpi = 100)#\n",
    "\n",
    "    #ax2.hist(squared_error, normed = True, bins = 20, color = 'r')\n",
    "    ax2.set_title('Distribution of Error')\n",
    "    ax2.set_xlabel('Prediction Error (Predicted - Actual Bias)')\n",
    "    ax2.set_ylabel('Relative Frequency')\n",
    "\n",
    "    n, bins, patches = plt.hist(error, 80, normed=1, color = '#800080')\n",
    "    mu = np.mean(error)\n",
    "    sigma = np.std(error)\n",
    "    ax2.text(-.033, 100, '$\\mu = {:.4e}, \\sigma = {:.4f}$'.format(mu, sigma))\n",
    "#    ax2.plot(bins, mlab.normpdf(bins, mu, sigma))\n",
    "\n",
    "\n",
    "\n",
    "#    plt.savefig('figures/'+ name +'.jpeg', bbox_inches='tight')\n",
    "    plt.show()\n",
    "\n",
    "plot_MSE_hist(forest_err, 'Neural Netowrks', 'ADA_only_sen_error_profile')"
   ]
  },
  {
   "cell_type": "code",
   "execution_count": 38,
   "metadata": {
    "collapsed": true,
    "scrolled": true
   },
   "outputs": [],
   "source": [
    "top150_error_names = ADA_names_sorted[:50] + forest_names_sorted[:50] + ETR_names_sorted[:50]\n",
    "top50_error_names = Counter(top150_error_names).most_common()[:50]\n",
    "error_names = top150_error_names[:50]"
   ]
  },
  {
   "cell_type": "code",
   "execution_count": null,
   "metadata": {
    "collapsed": true
   },
   "outputs": [],
   "source": []
  },
  {
   "cell_type": "code",
   "execution_count": null,
   "metadata": {
    "collapsed": true
   },
   "outputs": [],
   "source": []
  },
  {
   "cell_type": "code",
   "execution_count": null,
   "metadata": {
    "collapsed": true
   },
   "outputs": [],
   "source": []
  },
  {
   "cell_type": "code",
   "execution_count": null,
   "metadata": {
    "collapsed": true
   },
   "outputs": [],
   "source": []
  },
  {
   "cell_type": "code",
   "execution_count": null,
   "metadata": {
    "collapsed": true
   },
   "outputs": [],
   "source": []
  },
  {
   "cell_type": "code",
   "execution_count": null,
   "metadata": {
    "collapsed": true
   },
   "outputs": [],
   "source": []
  },
  {
   "cell_type": "code",
   "execution_count": null,
   "metadata": {
    "collapsed": true
   },
   "outputs": [],
   "source": []
  },
  {
   "cell_type": "code",
   "execution_count": null,
   "metadata": {
    "collapsed": true
   },
   "outputs": [],
   "source": []
  },
  {
   "cell_type": "code",
   "execution_count": null,
   "metadata": {
    "collapsed": true
   },
   "outputs": [],
   "source": []
  },
  {
   "cell_type": "code",
   "execution_count": null,
   "metadata": {
    "collapsed": true
   },
   "outputs": [],
   "source": []
  },
  {
   "cell_type": "code",
   "execution_count": null,
   "metadata": {
    "collapsed": true
   },
   "outputs": [],
   "source": []
  },
  {
   "cell_type": "code",
   "execution_count": null,
   "metadata": {
    "collapsed": true
   },
   "outputs": [],
   "source": []
  },
  {
   "cell_type": "code",
   "execution_count": null,
   "metadata": {
    "collapsed": true
   },
   "outputs": [],
   "source": []
  },
  {
   "cell_type": "code",
   "execution_count": null,
   "metadata": {
    "collapsed": true
   },
   "outputs": [],
   "source": []
  },
  {
   "cell_type": "code",
   "execution_count": null,
   "metadata": {
    "collapsed": true
   },
   "outputs": [],
   "source": []
  },
  {
   "cell_type": "code",
   "execution_count": null,
   "metadata": {
    "collapsed": true
   },
   "outputs": [],
   "source": []
  },
  {
   "cell_type": "code",
   "execution_count": null,
   "metadata": {
    "collapsed": true
   },
   "outputs": [],
   "source": []
  },
  {
   "cell_type": "code",
   "execution_count": null,
   "metadata": {
    "collapsed": true
   },
   "outputs": [],
   "source": []
  },
  {
   "cell_type": "code",
   "execution_count": null,
   "metadata": {
    "collapsed": true
   },
   "outputs": [],
   "source": []
  },
  {
   "cell_type": "code",
   "execution_count": null,
   "metadata": {
    "collapsed": true
   },
   "outputs": [],
   "source": []
  },
  {
   "cell_type": "code",
   "execution_count": null,
   "metadata": {
    "collapsed": true
   },
   "outputs": [],
   "source": []
  },
  {
   "cell_type": "code",
   "execution_count": null,
   "metadata": {
    "collapsed": true
   },
   "outputs": [],
   "source": []
  },
  {
   "cell_type": "code",
   "execution_count": null,
   "metadata": {
    "collapsed": true
   },
   "outputs": [],
   "source": []
  },
  {
   "cell_type": "code",
   "execution_count": null,
   "metadata": {
    "collapsed": true
   },
   "outputs": [],
   "source": []
  },
  {
   "cell_type": "code",
   "execution_count": null,
   "metadata": {
    "collapsed": true
   },
   "outputs": [],
   "source": []
  },
  {
   "cell_type": "code",
   "execution_count": null,
   "metadata": {
    "collapsed": true
   },
   "outputs": [],
   "source": []
  },
  {
   "cell_type": "code",
   "execution_count": null,
   "metadata": {
    "collapsed": true
   },
   "outputs": [],
   "source": []
  }
 ],
 "metadata": {
  "kernelspec": {
   "display_name": "Python [default]",
   "language": "python",
   "name": "python3"
  },
  "language_info": {
   "codemirror_mode": {
    "name": "ipython",
    "version": 3
   },
   "file_extension": ".py",
   "mimetype": "text/x-python",
   "name": "python",
   "nbconvert_exporter": "python",
   "pygments_lexer": "ipython3",
   "version": "3.6.1"
  }
 },
 "nbformat": 4,
 "nbformat_minor": 2
}
